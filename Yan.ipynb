{
 "cells": [
  {
   "cell_type": "code",
   "execution_count": 1,
   "id": "5ca7871f-1d01-41f4-8381-1b9755034772",
   "metadata": {},
   "outputs": [],
   "source": [
    "import numpy as np\n",
    "import pandas as pd\n",
    "from scipy.optimize import minimize\n",
    "from sklearn.model_selection import KFold\n",
    "from sklearn.metrics import mean_squared_error\n",
    "\n",
    "# Read the CSV file\n",
    "df = pd.read_csv('realtor-data.zip.csv')\n",
    "\n",
    "#seed\n",
    "seed = 481\n",
    "np.random.seed(seed)\n",
    "\n",
    "# Sample 10% of the rows since dataset is big\n",
    "df_sampled = df.sample(frac=0.1, random_state=1)"
   ]
  },
  {
   "cell_type": "code",
   "execution_count": 2,
   "id": "de4dc886-0517-43a1-87ed-da0b1bb91284",
   "metadata": {},
   "outputs": [],
   "source": [
    "# Clead data function by Katherine Wei\n",
    "def clean_data(df):\n",
    "    \"\"\"\n",
    "    cleans the input dataFrame, written by Katherine Wei\n",
    "\n",
    "    Parameters:\n",
    "    df (pd.DataFrame): The input DataFrame to clean.\n",
    "\n",
    "    Returns:\n",
    "    pd.DataFrame: The cleaned DataFrame.\n",
    "    \"\"\"\n",
    "    df_cleaned = df.copy()\n",
    "    df_cleaned['status'] = df_cleaned['status'].apply(lambda x: 1 if x == 'for_sale' else 0)\n",
    "    df_cleaned = df_cleaned[df_cleaned['status'] == 1]\n",
    "\n",
    "    total_observations = len(df_cleaned)\n",
    "    print(\"\\nTotal number of observations (rows):\", total_observations)\n",
    "    print(\"\\nMax Missing values in one column:\", max(df_cleaned.isnull().sum()))\n",
    "\n",
    "    df_cleaned.drop(columns=['prev_sold_date'], inplace=True)\n",
    "    df_cleaned.dropna(inplace=True)\n",
    "    df_cleaned.drop(columns=['street'], inplace=True)\n",
    "\n",
    "    total_observations_after = len(df_cleaned)\n",
    "    print(\"\\nTotal number of observations (rows) After dropping rows with missing values:\", total_observations_after)\n",
    "\n",
    "    print(df_cleaned.head())\n",
    "    return df_cleaned\n"
   ]
  },
  {
   "cell_type": "code",
   "execution_count": 3,
   "id": "8b73ce2c-55ba-4f6e-8638-bbd83baac80c",
   "metadata": {},
   "outputs": [],
   "source": [
    "# Define the OLS objective function\n",
    "def ols_func(beta, X, y):\n",
    "    \"\"\"\n",
    "    Objective function for OLS.\n",
    "    \"\"\"\n",
    "    return np.sum((y - X @ beta) ** 2)\n",
    "\n",
    "# Define the function to estimate OLS parameters\n",
    "def estimate_ols(y: np.array, X: np.array) -> np.array:\n",
    "    \"\"\"\n",
    "    estimates the OLS parameters\n",
    "    \n",
    "    Parameters:\n",
    "    y (np.array): y\n",
    "    X (np.array): x_{i1}, x_{i2}, x_{i3}\n",
    "    \n",
    "    Returns:\n",
    "    np.array: estimated coefficients beta_0, beta_1, beta_2, beta_3\n",
    "    \"\"\"\n",
    "    # Adding a column of ones to X to account for the intercept\n",
    "    X_inters = np.hstack([np.ones((X.shape[0], 1)), X])\n",
    "    \n",
    "    # Initial guess for beta (including the intercept term)\n",
    "    initial_beta = np.zeros(X_inters.shape[1])\n",
    "    \n",
    "    # Minimize the OLS objective function\n",
    "    result = minimize(ols_func, initial_beta, args=(X_inters, y.flatten()), method='Nelder-Mead')\n",
    "    \n",
    "    return result.x\n",
    "\n",
    "# Define the function to predict the price\n",
    "def predict_price(features, beta):\n",
    "    \"\"\"\n",
    "    Predicts the price given the input features and estimated parameters.\n",
    "\n",
    "    Parameters:\n",
    "    features (np.array): The array of input features (excluding the intercept).\n",
    "    beta (np.array): The estimated OLS parameters including the intercept.\n",
    "\n",
    "    Returns:\n",
    "    float: The predicted price.\n",
    "    \"\"\"\n",
    "    # Create an array for the input features including the intercept term\n",
    "    X_new = np.hstack([np.ones((features.shape[0], 1)), features])\n",
    "    \n",
    "    # Compute the predicted price\n",
    "    price_pred = X_new @ beta\n",
    "    \n",
    "    return price_pred\n",
    "\n",
    "# Implement cross-validation\n",
    "def cross_validate_ols(X, y, k=5):\n",
    "    \"\"\"\n",
    "    Performs k-fold cross-validation on the OLS model.\n",
    "\n",
    "    Parameters:\n",
    "    X (np.array): The feature matrix.\n",
    "    y (np.array): The target variable.\n",
    "    k (int): The number of folds for cross-validation.\n",
    "\n",
    "    Returns:\n",
    "    tuple: Mean and standard deviation of the mean squared error across folds.\n",
    "    \"\"\"\n",
    "    kf = KFold(n_splits=k, shuffle=True, random_state=1)\n",
    "    mse_scores = []\n",
    "\n",
    "    for train_index, test_index in kf.split(X):\n",
    "        X_train, X_test = X[train_index], X[test_index]\n",
    "        y_train, y_test = y[train_index], y[test_index]\n",
    "\n",
    "        # Estimate OLS parameters\n",
    "        beta_estimates = estimate_ols(y_train, X_train)\n",
    "\n",
    "        # Predict on test set\n",
    "        y_pred = predict_price(X_test, beta_estimates)\n",
    "\n",
    "        # Calculate MSE and store the result\n",
    "        mse = mean_squared_error(y_test, y_pred)\n",
    "        mse_scores.append(mse)\n",
    "\n",
    "    return np.mean(mse_scores), np.std(mse_scores)"
   ]
  },
  {
   "cell_type": "code",
   "execution_count": 4,
   "id": "5abaa5ab-2914-458f-9f31-4749e5edbdb8",
   "metadata": {},
   "outputs": [
    {
     "name": "stdout",
     "output_type": "stream",
     "text": [
      "\n",
      "Total number of observations (rows): 139194\n",
      "\n",
      "Max Missing values in one column: 71133\n",
      "\n",
      "Total number of observations (rows) After dropping rows with missing values: 74994\n",
      "         brokered_by  status      price  bed  bath  acre_lot         city  \\\n",
      "1080824     107399.0       1   589637.0  4.0   4.0      0.23         Katy   \n",
      "584856       84122.0       1   449900.0  3.0   3.0      2.17      Jemison   \n",
      "1181089      49467.0       1   445000.0  4.0   2.0      0.17       Tooele   \n",
      "1265285      81189.0       1  1300000.0  3.0   3.0      0.21      Arcadia   \n",
      "113111       22611.0       1   849000.0  2.0   3.0      0.14  Dobbs Ferry   \n",
      "\n",
      "              state  zip_code  house_size  \n",
      "1080824       Texas   77493.0      3300.0  \n",
      "584856      Alabama   35085.0      3600.0  \n",
      "1181089        Utah   84074.0      2226.0  \n",
      "1265285  California   91006.0      2053.0  \n",
      "113111     New York   10522.0      1920.0  \n"
     ]
    }
   ],
   "source": [
    "# Load the cleaned dataset\n",
    "df_cleaned = clean_data(df_sampled)"
   ]
  },
  {
   "cell_type": "code",
   "execution_count": 5,
   "id": "f1a236e7-4bd7-4165-a231-351fb0450591",
   "metadata": {},
   "outputs": [
    {
     "name": "stdout",
     "output_type": "stream",
     "text": [
      "Estimated OLS Parameters:\n",
      "[-41.60032559  50.14800703 -59.97534684  11.72553145  54.92685884\n",
      "   7.74930654]\n"
     ]
    }
   ],
   "source": [
    "# Select features and target variable\n",
    "features = ['bed', 'bath', 'acre_lot', 'house_size', 'zip_code']\n",
    "X = df_cleaned[features].values\n",
    "y = df_cleaned['price'].values\n",
    "\n",
    "# Estimate OLS parameters\n",
    "beta_estimates = estimate_ols(y, X)\n",
    "print(\"Estimated OLS Parameters:\")\n",
    "print(beta_estimates)"
   ]
  },
  {
   "cell_type": "code",
   "execution_count": 6,
   "id": "3f537767-1e58-4dc9-ac31-9d525646705a",
   "metadata": {},
   "outputs": [
    {
     "name": "stdout",
     "output_type": "stream",
     "text": [
      "Predicted Price: $808913.42\n"
     ]
    }
   ],
   "source": [
    "# Example input features\n",
    "bed = 3\n",
    "bath = 2\n",
    "acre_lot = 0.5\n",
    "house_size = 2000\n",
    "zip_code = 90210\n",
    "\n",
    "# Prepare the features for prediction\n",
    "features_example = np.array([[bed, bath, acre_lot, house_size, zip_code]])\n",
    "\n",
    "# Predict the price\n",
    "predicted_price = predict_price(features_example, beta_estimates)\n",
    "\n",
    "# Extract the single value from the array\n",
    "predicted_price_value = predicted_price[0]\n",
    "\n",
    "# Print the predicted price\n",
    "print(f\"Predicted Price: ${predicted_price_value:.2f}\")"
   ]
  },
  {
   "cell_type": "code",
   "execution_count": 7,
   "id": "32e56790-6752-4ed7-925f-d438b1de1a37",
   "metadata": {},
   "outputs": [
    {
     "name": "stdout",
     "output_type": "stream",
     "text": [
      "Mean MSE: 1631457792557.4714\n",
      "Standard Deviation of MSE: 356830900232.5339\n"
     ]
    }
   ],
   "source": [
    "# Perform cross-validation\n",
    "mean_mse, std_mse = cross_validate_ols(X, y, k=5)\n",
    "print(f\"Mean MSE: {mean_mse}\")\n",
    "print(f\"Standard Deviation of MSE: {std_mse}\")\n"
   ]
  }
 ],
 "metadata": {
  "kernelspec": {
   "display_name": "Python 3 (ipykernel)",
   "language": "python",
   "name": "python3"
  },
  "language_info": {
   "codemirror_mode": {
    "name": "ipython",
    "version": 3
   },
   "file_extension": ".py",
   "mimetype": "text/x-python",
   "name": "python",
   "nbconvert_exporter": "python",
   "pygments_lexer": "ipython3",
   "version": "3.10.13"
  }
 },
 "nbformat": 4,
 "nbformat_minor": 5
}
